{
 "cells": [
  {
   "cell_type": "code",
   "execution_count": null,
   "metadata": {},
   "outputs": [],
   "source": []
  },
  {
   "cell_type": "code",
   "execution_count": 1,
   "metadata": {
    "colab": {},
    "colab_type": "code",
    "executionInfo": {
     "elapsed": 150307,
     "status": "ok",
     "timestamp": 1594969572300,
     "user": {
      "displayName": "오승혁",
      "photoUrl": "",
      "userId": "17576348803238599032"
     },
     "user_tz": -540
    },
    "id": "v443mtS5EPCl"
   },
   "outputs": [
    {
     "ename": "ModuleNotFoundError",
     "evalue": "No module named 'tensorflow_quantum'",
     "output_type": "error",
     "traceback": [
      "\u001b[0;31m---------------------------------------------------------------------------\u001b[0m",
      "\u001b[0;31mModuleNotFoundError\u001b[0m                       Traceback (most recent call last)",
      "Input \u001b[0;32mIn [1]\u001b[0m, in \u001b[0;36m<module>\u001b[0;34m\u001b[0m\n\u001b[1;32m      1\u001b[0m \u001b[38;5;28;01mimport\u001b[39;00m \u001b[38;5;21;01mtensorflow\u001b[39;00m \u001b[38;5;28;01mas\u001b[39;00m \u001b[38;5;21;01mtf\u001b[39;00m\n\u001b[0;32m----> 2\u001b[0m \u001b[38;5;28;01mimport\u001b[39;00m \u001b[38;5;21;01mtensorflow_quantum\u001b[39;00m \u001b[38;5;28;01mas\u001b[39;00m \u001b[38;5;21;01mtfq\u001b[39;00m\n\u001b[1;32m      4\u001b[0m \u001b[38;5;28;01mfrom\u001b[39;00m \u001b[38;5;21;01mtensorflow\u001b[39;00m\u001b[38;5;21;01m.\u001b[39;00m\u001b[38;5;21;01mkeras\u001b[39;00m \u001b[38;5;28;01mimport\u001b[39;00m datasets, layers, models\n\u001b[1;32m      6\u001b[0m \u001b[38;5;28;01mimport\u001b[39;00m \u001b[38;5;21;01mcirq\u001b[39;00m\n",
      "\u001b[0;31mModuleNotFoundError\u001b[0m: No module named 'tensorflow_quantum'"
     ]
    }
   ],
   "source": [
    "import tensorflow as tf\n",
    "import tensorflow_quantum as tfq\n",
    "\n",
    "from tensorflow.keras import datasets, layers, models\n",
    "\n",
    "import cirq\n",
    "import sympy\n",
    "import numpy as np\n",
    "import collections\n",
    "\n",
    "# visualization tools\n",
    "%matplotlib inline\n",
    "import matplotlib as mpl\n",
    "import matplotlib.pyplot as plt\n",
    "from cirq.contrib.svg import SVGCircuit"
   ]
  },
  {
   "cell_type": "code",
   "execution_count": 2,
   "metadata": {
    "colab": {
     "base_uri": "https://localhost:8080/",
     "height": 89
    },
    "colab_type": "code",
    "executionInfo": {
     "elapsed": 150776,
     "status": "ok",
     "timestamp": 1594969572784,
     "user": {
      "displayName": "오승혁",
      "photoUrl": "",
      "userId": "17576348803238599032"
     },
     "user_tz": -540
    },
    "id": "73KuuBfoEPCp",
    "outputId": "6bd9a172-b35d-4489-ebec-ae6725324686"
   },
   "outputs": [
    {
     "name": "stdout",
     "output_type": "stream",
     "text": [
      "Number of original training examples: 60000\n",
      "Number of original test examples: 10000\n"
     ]
    }
   ],
   "source": [
    "(x_train, y_train), (x_test, y_test) = tf.keras.datasets.mnist.load_data()\n",
    "\n",
    "# Rescale the images from [0,255] to the [0.0,1.0] range.\n",
    "x_train, x_test = x_train[..., np.newaxis]/255.0, x_test[..., np.newaxis]/255.0\n",
    "\n",
    "print(\"Number of original training examples:\", len(x_train))\n",
    "print(\"Number of original test examples:\", len(x_test))"
   ]
  },
  {
   "cell_type": "code",
   "execution_count": 3,
   "metadata": {
    "colab": {},
    "colab_type": "code",
    "executionInfo": {
     "elapsed": 3294,
     "status": "ok",
     "timestamp": 1594969576122,
     "user": {
      "displayName": "오승혁",
      "photoUrl": "",
      "userId": "17576348803238599032"
     },
     "user_tz": -540
    },
    "id": "Hupa2OMlEPCs"
   },
   "outputs": [],
   "source": [
    "x_train= tf.cast(x_train, tf.float32)\n",
    "x_test=tf.cast(x_test, tf.float32)\n",
    "\n",
    "x_train = tf.image.resize(x_train[:], (10,10)).numpy()\n",
    "x_test = tf.image.resize(x_test[:], (10,10)).numpy()\n",
    "\n",
    "y_train = y_train[:]\n",
    "y_test = y_test[:]"
   ]
  },
  {
   "cell_type": "code",
   "execution_count": 4,
   "metadata": {
    "colab": {
     "base_uri": "https://localhost:8080/",
     "height": 301
    },
    "colab_type": "code",
    "executionInfo": {
     "elapsed": 3232,
     "status": "ok",
     "timestamp": 1594969576129,
     "user": {
      "displayName": "오승혁",
      "photoUrl": "",
      "userId": "17576348803238599032"
     },
     "user_tz": -540
    },
    "id": "jE3niAxiEPCu",
    "outputId": "e310e5f3-74db-4080-fd3a-7ed42e619197"
   },
   "outputs": [
    {
     "name": "stdout",
     "output_type": "stream",
     "text": [
      "5\n"
     ]
    },
    {
     "data": {
      "image/png": "[encoded data removed]",
      "text/plain": [
       "<Figure size 432x288 with 2 Axes>"
      ]
     },
     "metadata": {
      "needs_background": "light"
     },
     "output_type": "display_data"
    }
   ],
   "source": [
    "print(y_train[0])\n",
    "fig = plt.figure()\n",
    "plt.imshow(x_train[0, :, :, 0], cmap='gray_r')\n",
    "plt.colorbar()\n",
    "fig.savefig('sample', dpi=300)"
   ]
  },
  {
   "cell_type": "markdown",
   "metadata": {
    "colab": {
     "base_uri": "https://localhost:8080/",
     "height": 35
    },
    "colab_type": "code",
    "executionInfo": {
     "elapsed": 3186,
     "status": "ok",
     "timestamp": 1594969576130,
     "user": {
      "displayName": "오승혁",
      "photoUrl": "",
      "userId": "17576348803238599032"
     },
     "user_tz": -540
    },
    "id": "1TOeQilXEPCw",
    "outputId": "52a80e5b-2942-4b98-ce5f-bfc6a2b7f6dc"
   },
   "source": [
    "# Fully Connected Layer Only"
   ]
  },
  {
   "cell_type": "code",
   "execution_count": 5,
   "metadata": {},
   "outputs": [],
   "source": [
    "width = np.shape(x_train)[1]\n",
    "height = np.shape(x_train)[2]\n",
    "\n",
    "fc_model = models.Sequential()\n",
    "\n",
    "fc_model.add(layers.Flatten(input_shape=(width,height,1)))\n",
    "fc_model.add(layers.Dense(32, activation='relu'))\n",
    "fc_model.add(layers.Dense(10, activation='softmax'))"
   ]
  },
  {
   "cell_type": "code",
   "execution_count": 6,
   "metadata": {},
   "outputs": [
    {
     "name": "stdout",
     "output_type": "stream",
     "text": [
      "Epoch 1/50\n",
      "500/500 [==============================] - 2s 5ms/step - loss: 1.6229 - accuracy: 0.5556 - val_loss: 1.0329 - val_accuracy: 0.7449\n",
      "Epoch 2/50\n",
      "500/500 [==============================] - 2s 4ms/step - loss: 0.8126 - accuracy: 0.7936 - val_loss: 0.6540 - val_accuracy: 0.8314\n",
      "Epoch 3/50\n",
      "500/500 [==============================] - 2s 4ms/step - loss: 0.6049 - accuracy: 0.8332 - val_loss: 0.5307 - val_accuracy: 0.8525\n",
      "Epoch 4/50\n",
      "500/500 [==============================] - 2s 4ms/step - loss: 0.5417 - accuracy: 0.8492 - val_loss: 0.4667 - val_accuracy: 0.8706\n",
      "Epoch 5/50\n",
      "500/500 [==============================] - 2s 4ms/step - loss: 0.4684 - accuracy: 0.8680 - val_loss: 0.4353 - val_accuracy: 0.8770\n",
      "Epoch 6/50\n",
      "500/500 [==============================] - 2s 4ms/step - loss: 0.4218 - accuracy: 0.8824 - val_loss: 0.4007 - val_accuracy: 0.8856\n",
      "Epoch 7/50\n",
      "500/500 [==============================] - 2s 4ms/step - loss: 0.4353 - accuracy: 0.8728 - val_loss: 0.3942 - val_accuracy: 0.8834\n",
      "Epoch 8/50\n",
      "500/500 [==============================] - 2s 4ms/step - loss: 0.3901 - accuracy: 0.8848 - val_loss: 0.3647 - val_accuracy: 0.8976\n",
      "Epoch 9/50\n",
      "500/500 [==============================] - 2s 4ms/step - loss: 0.3533 - accuracy: 0.9000 - val_loss: 0.3552 - val_accuracy: 0.8963\n",
      "Epoch 10/50\n",
      "500/500 [==============================] - 2s 4ms/step - loss: 0.3813 - accuracy: 0.8848 - val_loss: 0.3416 - val_accuracy: 0.9009\n",
      "Epoch 11/50\n",
      "500/500 [==============================] - 2s 4ms/step - loss: 0.3392 - accuracy: 0.8936 - val_loss: 0.3345 - val_accuracy: 0.9021\n",
      "Epoch 12/50\n",
      "500/500 [==============================] - 2s 4ms/step - loss: 0.3724 - accuracy: 0.8892 - val_loss: 0.3293 - val_accuracy: 0.9027\n",
      "Epoch 13/50\n",
      "500/500 [==============================] - 2s 4ms/step - loss: 0.3612 - accuracy: 0.8936 - val_loss: 0.3235 - val_accuracy: 0.9055\n",
      "Epoch 14/50\n",
      "500/500 [==============================] - 2s 4ms/step - loss: 0.3608 - accuracy: 0.8904 - val_loss: 0.3117 - val_accuracy: 0.9120\n",
      "Epoch 15/50\n",
      "500/500 [==============================] - 2s 4ms/step - loss: 0.3532 - accuracy: 0.8900 - val_loss: 0.3031 - val_accuracy: 0.9139\n",
      "Epoch 16/50\n",
      "500/500 [==============================] - 2s 4ms/step - loss: 0.3719 - accuracy: 0.8904 - val_loss: 0.3067 - val_accuracy: 0.9107\n",
      "Epoch 17/50\n",
      "500/500 [==============================] - 2s 4ms/step - loss: 0.3113 - accuracy: 0.9036 - val_loss: 0.2952 - val_accuracy: 0.9163\n",
      "Epoch 18/50\n",
      "500/500 [==============================] - 2s 4ms/step - loss: 0.3093 - accuracy: 0.9048 - val_loss: 0.2912 - val_accuracy: 0.9152\n",
      "Epoch 19/50\n",
      "500/500 [==============================] - 2s 4ms/step - loss: 0.3047 - accuracy: 0.9156 - val_loss: 0.2879 - val_accuracy: 0.9166\n",
      "Epoch 20/50\n",
      "500/500 [==============================] - 2s 4ms/step - loss: 0.3081 - accuracy: 0.9136 - val_loss: 0.2876 - val_accuracy: 0.9175\n",
      "Epoch 21/50\n",
      "500/500 [==============================] - 2s 4ms/step - loss: 0.2895 - accuracy: 0.9112 - val_loss: 0.2817 - val_accuracy: 0.9189\n",
      "Epoch 22/50\n",
      "500/500 [==============================] - 2s 4ms/step - loss: 0.2853 - accuracy: 0.9068 - val_loss: 0.2776 - val_accuracy: 0.9202\n",
      "Epoch 23/50\n",
      "500/500 [==============================] - 2s 4ms/step - loss: 0.2875 - accuracy: 0.9100 - val_loss: 0.2859 - val_accuracy: 0.9146\n",
      "Epoch 24/50\n",
      "500/500 [==============================] - 2s 4ms/step - loss: 0.3073 - accuracy: 0.9064 - val_loss: 0.2733 - val_accuracy: 0.9194\n",
      "Epoch 25/50\n",
      "500/500 [==============================] - 2s 4ms/step - loss: 0.2746 - accuracy: 0.9180 - val_loss: 0.2710 - val_accuracy: 0.9195\n",
      "Epoch 26/50\n",
      "500/500 [==============================] - 2s 4ms/step - loss: 0.3064 - accuracy: 0.9012 - val_loss: 0.2763 - val_accuracy: 0.9170\n",
      "Epoch 27/50\n",
      "500/500 [==============================] - 2s 4ms/step - loss: 0.2763 - accuracy: 0.9180 - val_loss: 0.2538 - val_accuracy: 0.9247\n",
      "Epoch 28/50\n",
      "500/500 [==============================] - 2s 4ms/step - loss: 0.2487 - accuracy: 0.9280 - val_loss: 0.2563 - val_accuracy: 0.9248\n",
      "Epoch 29/50\n",
      "500/500 [==============================] - 2s 4ms/step - loss: 0.3002 - accuracy: 0.9088 - val_loss: 0.2509 - val_accuracy: 0.9274\n",
      "Epoch 30/50\n",
      "500/500 [==============================] - 2s 4ms/step - loss: 0.2676 - accuracy: 0.9232 - val_loss: 0.2468 - val_accuracy: 0.9296\n",
      "Epoch 31/50\n",
      "500/500 [==============================] - 2s 5ms/step - loss: 0.2927 - accuracy: 0.9124 - val_loss: 0.2462 - val_accuracy: 0.9268\n",
      "Epoch 32/50\n",
      "500/500 [==============================] - 2s 4ms/step - loss: 0.2312 - accuracy: 0.9316 - val_loss: 0.2439 - val_accuracy: 0.9275\n",
      "Epoch 33/50\n",
      "500/500 [==============================] - 2s 4ms/step - loss: 0.2593 - accuracy: 0.9192 - val_loss: 0.2391 - val_accuracy: 0.9306\n",
      "Epoch 34/50\n",
      "500/500 [==============================] - 2s 4ms/step - loss: 0.2526 - accuracy: 0.9236 - val_loss: 0.2391 - val_accuracy: 0.9303\n",
      "Epoch 35/50\n",
      "500/500 [==============================] - 2s 4ms/step - loss: 0.2751 - accuracy: 0.9184 - val_loss: 0.2414 - val_accuracy: 0.9290\n",
      "Epoch 36/50\n",
      "500/500 [==============================] - 2s 4ms/step - loss: 0.2389 - accuracy: 0.9280 - val_loss: 0.2393 - val_accuracy: 0.9301\n",
      "Epoch 37/50\n",
      "500/500 [==============================] - 2s 4ms/step - loss: 0.2469 - accuracy: 0.9260 - val_loss: 0.2338 - val_accuracy: 0.9321\n",
      "Epoch 38/50\n",
      "500/500 [==============================] - 2s 4ms/step - loss: 0.2522 - accuracy: 0.9264 - val_loss: 0.2360 - val_accuracy: 0.9321\n",
      "Epoch 39/50\n",
      "500/500 [==============================] - 2s 4ms/step - loss: 0.2489 - accuracy: 0.9320 - val_loss: 0.2270 - val_accuracy: 0.9327\n",
      "Epoch 40/50\n",
      "500/500 [==============================] - 2s 4ms/step - loss: 0.2571 - accuracy: 0.9240 - val_loss: 0.2324 - val_accuracy: 0.9316\n",
      "Epoch 41/50\n",
      "500/500 [==============================] - 2s 4ms/step - loss: 0.2606 - accuracy: 0.9204 - val_loss: 0.2310 - val_accuracy: 0.9334\n",
      "Epoch 42/50\n",
      "500/500 [==============================] - 2s 4ms/step - loss: 0.2398 - accuracy: 0.9268 - val_loss: 0.2210 - val_accuracy: 0.9377\n",
      "Epoch 43/50\n",
      "500/500 [==============================] - 2s 4ms/step - loss: 0.2410 - accuracy: 0.9248 - val_loss: 0.2209 - val_accuracy: 0.9364\n",
      "Epoch 44/50\n",
      "500/500 [==============================] - 2s 4ms/step - loss: 0.2467 - accuracy: 0.9268 - val_loss: 0.2214 - val_accuracy: 0.9368\n",
      "Epoch 45/50\n",
      "500/500 [==============================] - 2s 4ms/step - loss: 0.2273 - accuracy: 0.9304 - val_loss: 0.2258 - val_accuracy: 0.9348\n",
      "Epoch 46/50\n",
      "500/500 [==============================] - 2s 4ms/step - loss: 0.2157 - accuracy: 0.9340 - val_loss: 0.2171 - val_accuracy: 0.9383\n",
      "Epoch 47/50\n",
      "500/500 [==============================] - 2s 4ms/step - loss: 0.2384 - accuracy: 0.9248 - val_loss: 0.2208 - val_accuracy: 0.9382\n",
      "Epoch 48/50\n",
      "500/500 [==============================] - 2s 4ms/step - loss: 0.2518 - accuracy: 0.9212 - val_loss: 0.2162 - val_accuracy: 0.9381\n",
      "Epoch 49/50\n",
      "500/500 [==============================] - 2s 5ms/step - loss: 0.2497 - accuracy: 0.9292 - val_loss: 0.2101 - val_accuracy: 0.9408\n",
      "Epoch 50/50\n",
      "500/500 [==============================] - 2s 4ms/step - loss: 0.2151 - accuracy: 0.9352 - val_loss: 0.2162 - val_accuracy: 0.9391\n"
     ]
    }
   ],
   "source": [
    "fc_model.compile(optimizer='adam',\n",
    "              loss='sparse_categorical_crossentropy',\n",
    "              metrics=['accuracy'])\n",
    "\n",
    "fc_history = fc_model.fit(x_train, y_train, steps_per_epoch=500,\n",
    "                        validation_data=(x_test, y_test), \n",
    "                        epochs=50, batch_size=5)"
   ]
  },
  {
   "cell_type": "markdown",
   "metadata": {},
   "source": [
    "# Convolutional Layer"
   ]
  },
  {
   "cell_type": "code",
   "execution_count": 7,
   "metadata": {
    "colab": {},
    "colab_type": "code",
    "executionInfo": {
     "elapsed": 1200,
     "status": "ok",
     "timestamp": 1594971558074,
     "user": {
      "displayName": "오승혁",
      "photoUrl": "",
      "userId": "17576348803238599032"
     },
     "user_tz": -540
    },
    "id": "eMVX5OOQEPCy"
   },
   "outputs": [],
   "source": [
    "width = np.shape(x_train)[1]\n",
    "height = np.shape(x_train)[2]\n",
    "\n",
    "cnn_model = models.Sequential()\n",
    "\n",
    "cnn_model.add(layers.Conv2D(8, (2, 2), activation='relu', input_shape=(width, height, 1)))\n",
    "#model.add(layers.MaxPooling2D((2, 2)))\n",
    "#model.add(layers.Conv2D(16, (2, 2), activation='relu'))\n",
    "\n",
    "cnn_model.add(layers.Flatten())\n",
    "cnn_model.add(layers.Dense(32, activation='relu'))\n",
    "cnn_model.add(layers.Dense(10, activation='softmax'))"
   ]
  },
  {
   "cell_type": "code",
   "execution_count": 8,
   "metadata": {
    "colab": {
     "base_uri": "https://localhost:8080/",
     "height": 305
    },
    "colab_type": "code",
    "executionInfo": {
     "elapsed": 917,
     "status": "ok",
     "timestamp": 1594971558076,
     "user": {
      "displayName": "오승혁",
      "photoUrl": "",
      "userId": "17576348803238599032"
     },
     "user_tz": -540
    },
    "id": "4YieE0zaEPC0",
    "outputId": "8ac1e269-2e43-458b-ccd8-63f0c632f66d"
   },
   "outputs": [
    {
     "name": "stdout",
     "output_type": "stream",
     "text": [
      "Model: \"sequential_1\"\n",
      "_________________________________________________________________\n",
      "Layer (type)                 Output Shape              Param #   \n",
      "=================================================================\n",
      "conv2d (Conv2D)              (None, 9, 9, 8)           40        \n",
      "_________________________________________________________________\n",
      "flatten_1 (Flatten)          (None, 648)               0         \n",
      "_________________________________________________________________\n",
      "dense_2 (Dense)              (None, 32)                20768     \n",
      "_________________________________________________________________\n",
      "dense_3 (Dense)              (None, 10)                330       \n",
      "=================================================================\n",
      "Total params: 21,138\n",
      "Trainable params: 21,138\n",
      "Non-trainable params: 0\n",
      "_________________________________________________________________\n"
     ]
    }
   ],
   "source": [
    "cnn_model.summary()"
   ]
  },
  {
   "cell_type": "code",
   "execution_count": 9,
   "metadata": {
    "colab": {
     "base_uri": "https://localhost:8080/",
     "height": 1000
    },
    "colab_type": "code",
    "executionInfo": {
     "elapsed": 61419,
     "status": "ok",
     "timestamp": 1594971626644,
     "user": {
      "displayName": "오승혁",
      "photoUrl": "",
      "userId": "17576348803238599032"
     },
     "user_tz": -540
    },
    "id": "cnGpap70EPC2",
    "outputId": "4f21ca01-5430-4504-9d4c-fb24df3c6e99",
    "scrolled": true
   },
   "outputs": [
    {
     "name": "stdout",
     "output_type": "stream",
     "text": [
      "Epoch 1/50\n",
      "500/500 [==============================] - 3s 5ms/step - loss: 1.0500 - accuracy: 0.7032 - val_loss: 0.5254 - val_accuracy: 0.8512\n",
      "Epoch 2/50\n",
      "500/500 [==============================] - 2s 5ms/step - loss: 0.5107 - accuracy: 0.8492 - val_loss: 0.4711 - val_accuracy: 0.8539\n",
      "Epoch 3/50\n",
      "500/500 [==============================] - 2s 5ms/step - loss: 0.4478 - accuracy: 0.8644 - val_loss: 0.3784 - val_accuracy: 0.8831\n",
      "Epoch 4/50\n",
      "500/500 [==============================] - 2s 5ms/step - loss: 0.3858 - accuracy: 0.8872 - val_loss: 0.3595 - val_accuracy: 0.8920\n",
      "Epoch 5/50\n",
      "500/500 [==============================] - 2s 5ms/step - loss: 0.3865 - accuracy: 0.8852 - val_loss: 0.3172 - val_accuracy: 0.9053\n",
      "Epoch 6/50\n",
      "500/500 [==============================] - 3s 5ms/step - loss: 0.3391 - accuracy: 0.8960 - val_loss: 0.3271 - val_accuracy: 0.8981\n",
      "Epoch 7/50\n",
      "500/500 [==============================] - 3s 5ms/step - loss: 0.3564 - accuracy: 0.8816 - val_loss: 0.2730 - val_accuracy: 0.9208\n",
      "Epoch 8/50\n",
      "500/500 [==============================] - 2s 5ms/step - loss: 0.2985 - accuracy: 0.9128 - val_loss: 0.2728 - val_accuracy: 0.9199\n",
      "Epoch 9/50\n",
      "500/500 [==============================] - 2s 5ms/step - loss: 0.2964 - accuracy: 0.9080 - val_loss: 0.2686 - val_accuracy: 0.9198\n",
      "Epoch 10/50\n",
      "500/500 [==============================] - 3s 5ms/step - loss: 0.2950 - accuracy: 0.9156 - val_loss: 0.2483 - val_accuracy: 0.9270\n",
      "Epoch 11/50\n",
      "500/500 [==============================] - 3s 5ms/step - loss: 0.2869 - accuracy: 0.9100 - val_loss: 0.2217 - val_accuracy: 0.9377\n",
      "Epoch 12/50\n",
      "500/500 [==============================] - 2s 5ms/step - loss: 0.2376 - accuracy: 0.9264 - val_loss: 0.2334 - val_accuracy: 0.9299\n",
      "Epoch 13/50\n",
      "500/500 [==============================] - 3s 5ms/step - loss: 0.2354 - accuracy: 0.9276 - val_loss: 0.2043 - val_accuracy: 0.9415\n",
      "Epoch 14/50\n",
      "500/500 [==============================] - 3s 5ms/step - loss: 0.2458 - accuracy: 0.9280 - val_loss: 0.2169 - val_accuracy: 0.9340\n",
      "Epoch 15/50\n",
      "500/500 [==============================] - 3s 5ms/step - loss: 0.2254 - accuracy: 0.9328 - val_loss: 0.2013 - val_accuracy: 0.9402\n",
      "Epoch 16/50\n",
      "500/500 [==============================] - 2s 5ms/step - loss: 0.2202 - accuracy: 0.9312 - val_loss: 0.2123 - val_accuracy: 0.9362\n",
      "Epoch 17/50\n",
      "500/500 [==============================] - 2s 5ms/step - loss: 0.1823 - accuracy: 0.9472 - val_loss: 0.2137 - val_accuracy: 0.9320\n",
      "Epoch 18/50\n",
      "500/500 [==============================] - 3s 5ms/step - loss: 0.2153 - accuracy: 0.9308 - val_loss: 0.1759 - val_accuracy: 0.9487\n",
      "Epoch 19/50\n",
      "500/500 [==============================] - 3s 5ms/step - loss: 0.2029 - accuracy: 0.9424 - val_loss: 0.1914 - val_accuracy: 0.9404\n",
      "Epoch 20/50\n",
      "500/500 [==============================] - 2s 5ms/step - loss: 0.1820 - accuracy: 0.9488 - val_loss: 0.1638 - val_accuracy: 0.9503\n",
      "Epoch 21/50\n",
      "500/500 [==============================] - 2s 5ms/step - loss: 0.2013 - accuracy: 0.9348 - val_loss: 0.1738 - val_accuracy: 0.9457\n",
      "Epoch 22/50\n",
      "500/500 [==============================] - 2s 5ms/step - loss: 0.1825 - accuracy: 0.9408 - val_loss: 0.1699 - val_accuracy: 0.9487\n",
      "Epoch 23/50\n",
      "500/500 [==============================] - 2s 5ms/step - loss: 0.1978 - accuracy: 0.9420 - val_loss: 0.1646 - val_accuracy: 0.9490\n",
      "Epoch 24/50\n",
      "500/500 [==============================] - 2s 5ms/step - loss: 0.1902 - accuracy: 0.9344 - val_loss: 0.1611 - val_accuracy: 0.9506\n",
      "Epoch 25/50\n",
      "500/500 [==============================] - 2s 5ms/step - loss: 0.1806 - accuracy: 0.9428 - val_loss: 0.1607 - val_accuracy: 0.9507\n",
      "Epoch 26/50\n",
      "500/500 [==============================] - 3s 5ms/step - loss: 0.1662 - accuracy: 0.9464 - val_loss: 0.1595 - val_accuracy: 0.9527\n",
      "Epoch 27/50\n",
      "500/500 [==============================] - 3s 5ms/step - loss: 0.1585 - accuracy: 0.9512 - val_loss: 0.1684 - val_accuracy: 0.9480\n",
      "Epoch 28/50\n",
      "500/500 [==============================] - 2s 5ms/step - loss: 0.1751 - accuracy: 0.9512 - val_loss: 0.1611 - val_accuracy: 0.9490\n",
      "Epoch 29/50\n",
      "500/500 [==============================] - 2s 5ms/step - loss: 0.1877 - accuracy: 0.9416 - val_loss: 0.1634 - val_accuracy: 0.9485\n",
      "Epoch 30/50\n",
      "500/500 [==============================] - 2s 5ms/step - loss: 0.1519 - accuracy: 0.9572 - val_loss: 0.1438 - val_accuracy: 0.9553\n",
      "Epoch 31/50\n",
      "500/500 [==============================] - 3s 5ms/step - loss: 0.1673 - accuracy: 0.9528 - val_loss: 0.1471 - val_accuracy: 0.9570\n",
      "Epoch 32/50\n",
      "500/500 [==============================] - 2s 5ms/step - loss: 0.1587 - accuracy: 0.9504 - val_loss: 0.1441 - val_accuracy: 0.9562\n",
      "Epoch 33/50\n",
      "500/500 [==============================] - 2s 5ms/step - loss: 0.1378 - accuracy: 0.9572 - val_loss: 0.1508 - val_accuracy: 0.9527\n",
      "Epoch 34/50\n",
      "500/500 [==============================] - 2s 5ms/step - loss: 0.1456 - accuracy: 0.9560 - val_loss: 0.1566 - val_accuracy: 0.9499\n",
      "Epoch 35/50\n",
      "500/500 [==============================] - 3s 5ms/step - loss: 0.1593 - accuracy: 0.9528 - val_loss: 0.1340 - val_accuracy: 0.9594\n",
      "Epoch 36/50\n",
      "500/500 [==============================] - 3s 5ms/step - loss: 0.1635 - accuracy: 0.9480 - val_loss: 0.1364 - val_accuracy: 0.9582\n",
      "Epoch 37/50\n",
      "500/500 [==============================] - 2s 5ms/step - loss: 0.1561 - accuracy: 0.9456 - val_loss: 0.1430 - val_accuracy: 0.9577\n",
      "Epoch 38/50\n",
      "500/500 [==============================] - 3s 5ms/step - loss: 0.1722 - accuracy: 0.9480 - val_loss: 0.1388 - val_accuracy: 0.9587\n",
      "Epoch 39/50\n",
      "500/500 [==============================] - 2s 5ms/step - loss: 0.1513 - accuracy: 0.9472 - val_loss: 0.1579 - val_accuracy: 0.9507\n",
      "Epoch 40/50\n",
      "500/500 [==============================] - 3s 5ms/step - loss: 0.1379 - accuracy: 0.9536 - val_loss: 0.1254 - val_accuracy: 0.9606\n",
      "Epoch 41/50\n",
      "500/500 [==============================] - 2s 5ms/step - loss: 0.1408 - accuracy: 0.9580 - val_loss: 0.1314 - val_accuracy: 0.9604\n",
      "Epoch 42/50\n",
      "500/500 [==============================] - 3s 5ms/step - loss: 0.1383 - accuracy: 0.9612 - val_loss: 0.1378 - val_accuracy: 0.9581\n",
      "Epoch 43/50\n",
      "500/500 [==============================] - 3s 5ms/step - loss: 0.1549 - accuracy: 0.9516 - val_loss: 0.1407 - val_accuracy: 0.9572\n",
      "Epoch 44/50\n",
      "500/500 [==============================] - 3s 5ms/step - loss: 0.1353 - accuracy: 0.9580 - val_loss: 0.1253 - val_accuracy: 0.9641\n",
      "Epoch 45/50\n",
      "500/500 [==============================] - 2s 5ms/step - loss: 0.1640 - accuracy: 0.9552 - val_loss: 0.1297 - val_accuracy: 0.9594\n",
      "Epoch 46/50\n",
      "500/500 [==============================] - 2s 5ms/step - loss: 0.1419 - accuracy: 0.9516 - val_loss: 0.1326 - val_accuracy: 0.9600\n",
      "Epoch 47/50\n",
      "500/500 [==============================] - 2s 5ms/step - loss: 0.1316 - accuracy: 0.9604 - val_loss: 0.1185 - val_accuracy: 0.9645\n",
      "Epoch 48/50\n",
      "500/500 [==============================] - 3s 5ms/step - loss: 0.1612 - accuracy: 0.9516 - val_loss: 0.1302 - val_accuracy: 0.9609\n",
      "Epoch 49/50\n",
      "500/500 [==============================] - 2s 5ms/step - loss: 0.1254 - accuracy: 0.9572 - val_loss: 0.1284 - val_accuracy: 0.9613\n",
      "Epoch 50/50\n",
      "500/500 [==============================] - 2s 5ms/step - loss: 0.1228 - accuracy: 0.9636 - val_loss: 0.1393 - val_accuracy: 0.9570\n"
     ]
    }
   ],
   "source": [
    "cnn_model.compile(optimizer=tf.optimizers.Adam(),\n",
    "              loss='sparse_categorical_crossentropy',\n",
    "              metrics=['accuracy'])\n",
    "\n",
    "cnn_history = cnn_model.fit(x_train, y_train, steps_per_epoch=500,\n",
    "                        validation_data=(x_test, y_test), \n",
    "                        epochs=50, batch_size=5)"
   ]
  },
  {
   "cell_type": "code",
   "execution_count": 10,
   "metadata": {
    "colab": {
     "base_uri": "https://localhost:8080/",
     "height": 35
    },
    "colab_type": "code",
    "executionInfo": {
     "elapsed": 1462,
     "status": "ok",
     "timestamp": 1594971634260,
     "user": {
      "displayName": "오승혁",
      "photoUrl": "",
      "userId": "17576348803238599032"
     },
     "user_tz": -540
    },
    "id": "8eKXWRjOEPC4",
    "outputId": "9be50887-154e-4129-9952-0922ba5f42a7"
   },
   "outputs": [
    {
     "name": "stdout",
     "output_type": "stream",
     "text": [
      "313/313 - 1s - loss: 0.1393 - accuracy: 0.9570\n"
     ]
    }
   ],
   "source": [
    "test_loss, test_acc = cnn_model.evaluate(x_test, y_test, verbose=2)"
   ]
  },
  {
   "cell_type": "markdown",
   "metadata": {
    "colab_type": "text",
    "id": "u4oNotFgEPC5"
   },
   "source": [
    "# Make Quantum Convolution Layer"
   ]
  },
  {
   "cell_type": "code",
   "execution_count": 11,
   "metadata": {
    "colab": {},
    "colab_type": "code",
    "executionInfo": {
     "elapsed": 1212,
     "status": "ok",
     "timestamp": 1594977131092,
     "user": {
      "displayName": "오승혁",
      "photoUrl": "",
      "userId": "17576348803238599032"
     },
     "user_tz": -540
    },
    "id": "dmnXSyM5EPC6"
   },
   "outputs": [],
   "source": [
    "class QConv(tf.keras.layers.Layer):\n",
    "    def __init__(self, filter_size, depth, activation=None, name=None, kernel_regularizer=None, **kwangs):\n",
    "        super(QConv, self).__init__(name=name, **kwangs)\n",
    "        self.filter_size = filter_size\n",
    "        self.depth = depth\n",
    "        self.learning_params = []\n",
    "        self.QCNN_layer_gen()\n",
    "        # self.circuit_tensor = tfq.convert_to_tensor([self.circuit])\n",
    "        self.activation = tf.keras.layers.Activation(activation)\n",
    "        self.kernel_regularizer = kernel_regularizer\n",
    "\n",
    "    def _next_qubit_set(self, original_size, next_size, qubits):\n",
    "        step = original_size // next_size\n",
    "        qubit_list = []\n",
    "        for i in range(0, original_size, step):\n",
    "            for j in range(0, original_size, step):\n",
    "                qubit_list.append(qubits[original_size*i + j])\n",
    "        return qubit_list\n",
    "\n",
    "    def _get_new_param(self):\n",
    "        \"\"\"\n",
    "        return new learnable parameter\n",
    "        all returned parameter saved in self.learning_params\n",
    "        \"\"\"\n",
    "        new_param = sympy.symbols(\"p\"+str(len(self.learning_params)))\n",
    "        self.learning_params.append(new_param)\n",
    "        return new_param\n",
    "    \n",
    "    def _QConv(self, step, target, qubits):\n",
    "        \"\"\"\n",
    "        apply learnable gates each quantum convolutional layer level\n",
    "        \"\"\"\n",
    "        yield cirq.CZPowGate(exponent=self._get_new_param())(qubits[target], qubits[target+step])\n",
    "        yield cirq.CXPowGate(exponent=self._get_new_param())(qubits[target], qubits[target+step])\n",
    "        \n",
    "    def QCNN_layer_gen(self):\n",
    "        \"\"\"\n",
    "        make quantum convolutional layer in QConv layer\n",
    "        \"\"\"\n",
    "        pixels = self.filter_size**2\n",
    "        # filter size: 2^n only for this version!\n",
    "        if np.log2(pixels) % 1 != 0:\n",
    "            raise NotImplementedError(\"filter size: 2^n only available\")\n",
    "        cirq_qubits = cirq.GridQubit.rect(self.filter_size, self.filter_size)\n",
    "        # mapping input data to circuit\n",
    "        input_circuit = cirq.Circuit()\n",
    "        input_params = [sympy.symbols('a%d' %i) for i in range(pixels)]\n",
    "        for i, qubit in enumerate(cirq_qubits):\n",
    "            input_circuit.append(cirq.rx(np.pi*input_params[i])(qubit))\n",
    "        # apply learnable gate set to QCNN circuit\n",
    "        QCNN_circuit = cirq.Circuit()\n",
    "        step_size = [2**i for i in range(np.log2(pixels).astype(np.int32))]\n",
    "        for step in step_size:\n",
    "            for target in range(0, pixels, 2*step):\n",
    "                QCNN_circuit.append(self._QConv(step, target, cirq_qubits))\n",
    "        # merge the circuits\n",
    "        full_circuit = cirq.Circuit()\n",
    "        full_circuit.append(input_circuit)\n",
    "        full_circuit.append(QCNN_circuit)\n",
    "        self.circuit = full_circuit # save circuit to the QCNN layer obj.\n",
    "        self.params = input_params + self.learning_params\n",
    "        self.op = cirq.Z(cirq_qubits[0])\n",
    "        \n",
    "    def build(self, input_shape):\n",
    "        self.width = input_shape[1]\n",
    "        self.height = input_shape[2]\n",
    "        self.channel = input_shape[3]\n",
    "        self.num_x = self.width - self.filter_size + 1\n",
    "        self.num_y = self.height - self.filter_size + 1\n",
    "        \n",
    "        self.kernel = self.add_weight(name=\"kenel\", \n",
    "                                      shape=[self.depth, \n",
    "                                             self.channel, \n",
    "                                             len(self.learning_params)],\n",
    "                                     initializer=tf.keras.initializers.glorot_normal(),\n",
    "                                     regularizer=self.kernel_regularizer)\n",
    "        self.circuit_tensor = tfq.convert_to_tensor([self.circuit] * self.num_x * self.num_y * self.channel)\n",
    "        \n",
    "    def call(self, inputs):\n",
    "        # input shape: [N, width, height, channel]\n",
    "        # slide and collect data\n",
    "        stack_set = None\n",
    "        for i in range(self.num_x):\n",
    "            for j in range(self.num_y):\n",
    "                slice_part = tf.slice(inputs, [0, i, j, 0], [-1, self.filter_size, self.filter_size, -1])\n",
    "                slice_part = tf.reshape(slice_part, shape=[-1, 1, self.filter_size, self.filter_size, self.channel])\n",
    "                if stack_set == None:\n",
    "                    stack_set = slice_part\n",
    "                else:\n",
    "                    stack_set = tf.concat([stack_set, slice_part], 1)  \n",
    "        # -> shape: [N, num_x*num_y, filter_size, filter_size, channel]\n",
    "        stack_set = tf.transpose(stack_set, perm=[0, 1, 4, 2, 3])\n",
    "        # -> shape: [N, num_x*num_y, channel, filter_size, fiter_size]\n",
    "        stack_set = tf.reshape(stack_set, shape=[-1, self.filter_size**2])\n",
    "        # -> shape: [N*num_x*num_y*channel, filter_size^2]\n",
    "        \n",
    "        # total input citcuits: N * num_x * num_y * channel\n",
    "        circuit_inputs = tf.tile([self.circuit_tensor], [tf.shape(inputs)[0], 1])\n",
    "        circuit_inputs = tf.reshape(circuit_inputs, shape=[-1])\n",
    "        tf.fill([tf.shape(inputs)[0]*self.num_x*self.num_y, 1], 1)\n",
    "        outputs = []\n",
    "        for i in range(self.depth):\n",
    "            controller = tf.tile(self.kernel[i], [tf.shape(inputs)[0]*self.num_x*self.num_y, 1])\n",
    "            outputs.append(self.single_depth_QCNN(stack_set, controller, circuit_inputs))\n",
    "            # shape: [N, num_x, num_y] \n",
    "            \n",
    "        output_tensor = tf.stack(outputs, axis=3)\n",
    "        output_tensor = tf.math.acos(tf.clip_by_value(output_tensor, -1+1e-5, 1-1e-5)) / np.pi\n",
    "        # output_tensor = tf.clip_by_value(tf.math.acos(output_tensor)/np.pi, -1, 1)\n",
    "        return self.activation(output_tensor)\n",
    "          \n",
    "    def single_depth_QCNN(self, input_data, controller, circuit_inputs):\n",
    "        \"\"\"\n",
    "        make QCNN for 1 channel only\n",
    "        \"\"\"\n",
    "        # input shape: [N*num_x*num_y*channel, filter_size^2]\n",
    "        # controller shape: [N*num_x*num_y*channel, len(learning_params)]\n",
    "        input_data = tf.concat([input_data, controller], 1)\n",
    "        # input_data shape: [N*num_x*num_y*channel, len(learning_params)]\n",
    "        QCNN_output = tfq.layers.Expectation()(circuit_inputs, \n",
    "                                               symbol_names=self.params,\n",
    "                                               symbol_values=input_data,\n",
    "                                               operators=self.op)\n",
    "        # QCNN_output shape: [N*num_x*num_y*channel]\n",
    "        QCNN_output = tf.reshape(QCNN_output, shape=[-1, self.num_x, self.num_y, self.channel])\n",
    "        return tf.math.reduce_sum(QCNN_output, 3)\n",
    "        "
   ]
  },
  {
   "cell_type": "code",
   "execution_count": 12,
   "metadata": {
    "colab": {},
    "colab_type": "code",
    "executionInfo": {
     "elapsed": 1249,
     "status": "ok",
     "timestamp": 1594977593117,
     "user": {
      "displayName": "오승혁",
      "photoUrl": "",
      "userId": "17576348803238599032"
     },
     "user_tz": -540
    },
    "id": "j4_hQbAXEPC8"
   },
   "outputs": [],
   "source": [
    "width = np.shape(x_train)[1]\n",
    "height = np.shape(x_train)[2]\n",
    "\n",
    "qcnn_model = models.Sequential()\n",
    "\n",
    "\n",
    "qcnn_model.add(QConv(filter_size=2, depth=8, activation='relu', \n",
    "                     name='qconv1', input_shape=(width, height, 1)))\n",
    "#model.add(layers.Conv2D(16, (2, 2), activation='relu'))\n",
    "qcnn_model.add(layers.Flatten())\n",
    "qcnn_model.add(layers.Dense(32, activation='relu'))\n",
    "qcnn_model.add(layers.Dense(10, activation='softmax'))\n"
   ]
  },
  {
   "cell_type": "code",
   "execution_count": 13,
   "metadata": {
    "colab": {
     "base_uri": "https://localhost:8080/",
     "height": 341
    },
    "colab_type": "code",
    "executionInfo": {
     "elapsed": 920,
     "status": "ok",
     "timestamp": 1594977593120,
     "user": {
      "displayName": "오승혁",
      "photoUrl": "",
      "userId": "17576348803238599032"
     },
     "user_tz": -540
    },
    "id": "89ttC7n9EPC9",
    "outputId": "84bcfda8-4b27-49a4-8216-6148d8893cf7"
   },
   "outputs": [
    {
     "name": "stdout",
     "output_type": "stream",
     "text": [
      "Model: \"sequential_2\"\n",
      "_________________________________________________________________\n",
      "Layer (type)                 Output Shape              Param #   \n",
      "=================================================================\n",
      "qconv1 (QConv)               (None, 9, 9, 8)           48        \n",
      "_________________________________________________________________\n",
      "flatten_2 (Flatten)          (None, 648)               0         \n",
      "_________________________________________________________________\n",
      "dense_4 (Dense)              (None, 32)                20768     \n",
      "_________________________________________________________________\n",
      "dense_5 (Dense)              (None, 10)                330       \n",
      "=================================================================\n",
      "Total params: 21,146\n",
      "Trainable params: 21,146\n",
      "Non-trainable params: 0\n",
      "_________________________________________________________________\n"
     ]
    }
   ],
   "source": [
    "qcnn_model.summary()"
   ]
  },
  {
   "cell_type": "code",
   "execution_count": 14,
   "metadata": {
    "colab": {
     "base_uri": "https://localhost:8080/",
     "height": 220
    },
    "colab_type": "code",
    "executionInfo": {
     "elapsed": 987,
     "status": "ok",
     "timestamp": 1594977593562,
     "user": {
      "displayName": "오승혁",
      "photoUrl": "",
      "userId": "17576348803238599032"
     },
     "user_tz": -540
    },
    "id": "IMjGoNGiEPC_",
    "outputId": "f49fc139-aa8b-4dff-fa0c-b94ec9c1537a",
    "scrolled": false
   },
   "outputs": [
    {
     "name": "stderr",
     "output_type": "stream",
     "text": [
      "findfont: Font family ['Arial'] not found. Falling back to DejaVu Sans.\n"
     ]
    },
    {
     "data": {
      "image/svg+xml": [
       "<svg xmlns=\"http://www.w3.org/2000/svg\" width=\"614.768828125\" height=\"200.0\"><line x1=\"34.7588671875\" x2=\"584.768828125\" y1=\"25.0\" y2=\"25.0\" stroke=\"#1967d2\" stroke-width=\"1\" /><line x1=\"34.7588671875\" x2=\"584.768828125\" y1=\"75.0\" y2=\"75.0\" stroke=\"#1967d2\" stroke-width=\"1\" /><line x1=\"34.7588671875\" x2=\"584.768828125\" y1=\"125.0\" y2=\"125.0\" stroke=\"#1967d2\" stroke-width=\"1\" /><line x1=\"34.7588671875\" x2=\"584.768828125\" y1=\"175.0\" y2=\"175.0\" stroke=\"#1967d2\" stroke-width=\"1\" /><line x1=\"324.25851562500003\" x2=\"324.25851562500003\" y1=\"25.0\" y2=\"75.0\" stroke=\"black\" stroke-width=\"3\" /><line x1=\"324.25851562500003\" x2=\"324.25851562500003\" y1=\"125.0\" y2=\"175.0\" stroke=\"black\" stroke-width=\"3\" /><line x1=\"395.83414062500003\" x2=\"395.83414062500003\" y1=\"25.0\" y2=\"75.0\" stroke=\"black\" stroke-width=\"3\" /><line x1=\"395.83414062500003\" x2=\"395.83414062500003\" y1=\"125.0\" y2=\"175.0\" stroke=\"black\" stroke-width=\"3\" /><line x1=\"467.481953125\" x2=\"467.481953125\" y1=\"25.0\" y2=\"125.0\" stroke=\"black\" stroke-width=\"3\" /><line x1=\"539.0794531250001\" x2=\"539.0794531250001\" y1=\"25.0\" y2=\"125.0\" stroke=\"black\" stroke-width=\"3\" /><rect x=\"10.0\" y=\"5.0\" width=\"49.517734375\" height=\"40\" stroke=\"black\" fill=\"white\" stroke-width=\"0\" /><text x=\"34.7588671875\" y=\"25.0\" dominant-baseline=\"middle\" text-anchor=\"middle\" font-size=\"14px\">(0, 0): </text><rect x=\"10.0\" y=\"55.0\" width=\"49.517734375\" height=\"40\" stroke=\"black\" fill=\"white\" stroke-width=\"0\" /><text x=\"34.7588671875\" y=\"75.0\" dominant-baseline=\"middle\" text-anchor=\"middle\" font-size=\"14px\">(0, 1): </text><rect x=\"10.0\" y=\"105.0\" width=\"49.517734375\" height=\"40\" stroke=\"black\" fill=\"white\" stroke-width=\"0\" /><text x=\"34.7588671875\" y=\"125.0\" dominant-baseline=\"middle\" text-anchor=\"middle\" font-size=\"14px\">(1, 0): </text><rect x=\"10.0\" y=\"155.0\" width=\"49.517734375\" height=\"40\" stroke=\"black\" fill=\"white\" stroke-width=\"0\" /><text x=\"34.7588671875\" y=\"175.0\" dominant-baseline=\"middle\" text-anchor=\"middle\" font-size=\"14px\">(1, 1): </text><rect x=\"79.51773437499999\" y=\"5.0\" width=\"198.90484375000003\" height=\"40\" stroke=\"black\" fill=\"white\" stroke-width=\"1\" /><text x=\"178.97015625\" y=\"25.0\" dominant-baseline=\"middle\" text-anchor=\"middle\" font-size=\"14px\">Rx(3.14159265358979*a0)</text><rect x=\"79.51773437499999\" y=\"55.0\" width=\"198.90484375000003\" height=\"40\" stroke=\"black\" fill=\"white\" stroke-width=\"1\" /><text x=\"178.97015625\" y=\"75.0\" dominant-baseline=\"middle\" text-anchor=\"middle\" font-size=\"14px\">Rx(3.14159265358979*a1)</text><rect x=\"79.51773437499999\" y=\"105.0\" width=\"198.90484375000003\" height=\"40\" stroke=\"black\" fill=\"white\" stroke-width=\"1\" /><text x=\"178.97015625\" y=\"125.0\" dominant-baseline=\"middle\" text-anchor=\"middle\" font-size=\"14px\">Rx(3.14159265358979*a2)</text><rect x=\"79.51773437499999\" y=\"155.0\" width=\"198.90484375000003\" height=\"40\" stroke=\"black\" fill=\"white\" stroke-width=\"1\" /><text x=\"178.97015625\" y=\"175.0\" dominant-baseline=\"middle\" text-anchor=\"middle\" font-size=\"14px\">Rx(3.14159265358979*a3)</text><rect x=\"298.42257812500003\" y=\"55.0\" width=\"51.671875\" height=\"40\" stroke=\"black\" fill=\"white\" stroke-width=\"1\" /><text x=\"324.25851562500003\" y=\"75.0\" dominant-baseline=\"middle\" text-anchor=\"middle\" font-size=\"14px\">@^p0</text><circle cx=\"324.25851562500003\" cy=\"25.0\" r=\"10.0\" /><rect x=\"298.42257812500003\" y=\"155.0\" width=\"51.671875\" height=\"40\" stroke=\"black\" fill=\"white\" stroke-width=\"1\" /><text x=\"324.25851562500003\" y=\"175.0\" dominant-baseline=\"middle\" text-anchor=\"middle\" font-size=\"14px\">@^p2</text><circle cx=\"324.25851562500003\" cy=\"125.0\" r=\"10.0\" /><rect x=\"370.09445312500003\" y=\"55.0\" width=\"51.479375000000005\" height=\"40\" stroke=\"black\" fill=\"white\" stroke-width=\"1\" /><text x=\"395.83414062500003\" y=\"75.0\" dominant-baseline=\"middle\" text-anchor=\"middle\" font-size=\"14px\">@^p1</text><rect x=\"370.09445312500003\" y=\"5.0\" width=\"51.479375000000005\" height=\"40\" stroke=\"black\" fill=\"white\" stroke-width=\"1\" /><text x=\"395.83414062500003\" y=\"25.0\" dominant-baseline=\"middle\" text-anchor=\"middle\" font-size=\"18px\">X</text><rect x=\"370.09445312500003\" y=\"155.0\" width=\"51.479375000000005\" height=\"40\" stroke=\"black\" fill=\"white\" stroke-width=\"1\" /><text x=\"395.83414062500003\" y=\"175.0\" dominant-baseline=\"middle\" text-anchor=\"middle\" font-size=\"14px\">@^p3</text><rect x=\"370.09445312500003\" y=\"105.0\" width=\"51.479375000000005\" height=\"40\" stroke=\"black\" fill=\"white\" stroke-width=\"1\" /><text x=\"395.83414062500003\" y=\"125.0\" dominant-baseline=\"middle\" text-anchor=\"middle\" font-size=\"18px\">X</text><rect x=\"441.57382812500003\" y=\"105.0\" width=\"51.81625\" height=\"40\" stroke=\"black\" fill=\"white\" stroke-width=\"1\" /><text x=\"467.481953125\" y=\"125.0\" dominant-baseline=\"middle\" text-anchor=\"middle\" font-size=\"14px\">@^p4</text><circle cx=\"467.481953125\" cy=\"25.0\" r=\"10.0\" /><rect x=\"513.3900781250001\" y=\"105.0\" width=\"51.37875\" height=\"40\" stroke=\"black\" fill=\"white\" stroke-width=\"1\" /><text x=\"539.0794531250001\" y=\"125.0\" dominant-baseline=\"middle\" text-anchor=\"middle\" font-size=\"14px\">@^p5</text><rect x=\"513.3900781250001\" y=\"5.0\" width=\"51.37875\" height=\"40\" stroke=\"black\" fill=\"white\" stroke-width=\"1\" /><text x=\"539.0794531250001\" y=\"25.0\" dominant-baseline=\"middle\" text-anchor=\"middle\" font-size=\"18px\">X</text></svg>"
      ],
      "text/plain": [
       "<cirq.contrib.svg.svg.SVGCircuit at 0x7fae3442a7c0>"
      ]
     },
     "execution_count": 14,
     "metadata": {},
     "output_type": "execute_result"
    }
   ],
   "source": [
    "SVGCircuit(QConv(filter_size=2, depth=0, activation='relu').circuit)"
   ]
  },
  {
   "cell_type": "code",
   "execution_count": 15,
   "metadata": {
    "colab": {
     "base_uri": "https://localhost:8080/",
     "height": 533
    },
    "colab_type": "code",
    "executionInfo": {
     "elapsed": 1492,
     "status": "ok",
     "timestamp": 1594977594367,
     "user": {
      "displayName": "오승혁",
      "photoUrl": "",
      "userId": "17576348803238599032"
     },
     "user_tz": -540
    },
    "id": "a_v5xWKfEPDB",
    "outputId": "461769fe-d978-4cc6-a6ed-0c207eca1eae",
    "scrolled": false
   },
   "outputs": [
    {
     "data": {
      "image/png": "[encoded data removed]",
      "text/plain": [
       "<IPython.core.display.Image object>"
      ]
     },
     "execution_count": 15,
     "metadata": {},
     "output_type": "execute_result"
    }
   ],
   "source": [
    "import pydot\n",
    "import graphviz\n",
    "from tensorflow.keras.utils import plot_model\n",
    "\n",
    "plot_model(qcnn_model, to_file='model_shapes.png', show_shapes=True)"
   ]
  },
  {
   "cell_type": "code",
   "execution_count": 16,
   "metadata": {
    "colab": {
     "base_uri": "https://localhost:8080/",
     "height": 89
    },
    "colab_type": "code",
    "id": "JhRWSq6UEPDC",
    "outputId": "b605295c-c38d-4fb2-b21a-6e83de8cc99c",
    "scrolled": true
   },
   "outputs": [
    {
     "name": "stdout",
     "output_type": "stream",
     "text": [
      "Epoch 1/50\n",
      "500/500 [==============================] - 323s 645ms/step - loss: 0.9971 - accuracy: 0.7172 - val_loss: 0.5769 - val_accuracy: 0.8336\n",
      "Epoch 2/50\n",
      "500/500 [==============================] - 328s 657ms/step - loss: 0.5242 - accuracy: 0.8436 - val_loss: 0.4749 - val_accuracy: 0.8618\n",
      "Epoch 3/50\n",
      "500/500 [==============================] - 301s 603ms/step - loss: 0.4328 - accuracy: 0.8720 - val_loss: 0.3819 - val_accuracy: 0.8893\n",
      "Epoch 4/50\n",
      "500/500 [==============================] - 302s 605ms/step - loss: 0.3766 - accuracy: 0.8816 - val_loss: 0.3329 - val_accuracy: 0.9011\n",
      "Epoch 5/50\n",
      "500/500 [==============================] - 301s 603ms/step - loss: 0.3460 - accuracy: 0.8936 - val_loss: 0.3193 - val_accuracy: 0.9050\n",
      "Epoch 6/50\n",
      "500/500 [==============================] - 280s 560ms/step - loss: 0.3203 - accuracy: 0.9020 - val_loss: 0.2845 - val_accuracy: 0.9138\n",
      "Epoch 7/50\n",
      "500/500 [==============================] - 278s 557ms/step - loss: 0.3522 - accuracy: 0.8996 - val_loss: 0.2743 - val_accuracy: 0.9194\n",
      "Epoch 8/50\n",
      "500/500 [==============================] - 277s 554ms/step - loss: 0.3036 - accuracy: 0.9012 - val_loss: 0.2871 - val_accuracy: 0.9128\n",
      "Epoch 9/50\n",
      "500/500 [==============================] - 277s 553ms/step - loss: 0.2954 - accuracy: 0.9092 - val_loss: 0.2533 - val_accuracy: 0.9246\n",
      "Epoch 10/50\n",
      "500/500 [==============================] - 276s 553ms/step - loss: 0.2724 - accuracy: 0.9120 - val_loss: 0.2291 - val_accuracy: 0.9337\n",
      "Epoch 11/50\n",
      "500/500 [==============================] - 276s 551ms/step - loss: 0.2444 - accuracy: 0.9312 - val_loss: 0.2345 - val_accuracy: 0.9318\n",
      "Epoch 12/50\n",
      "500/500 [==============================] - 275s 549ms/step - loss: 0.2735 - accuracy: 0.9204 - val_loss: 0.2280 - val_accuracy: 0.9304\n",
      "Epoch 13/50\n",
      "500/500 [==============================] - 275s 549ms/step - loss: 0.2391 - accuracy: 0.9356 - val_loss: 0.2149 - val_accuracy: 0.9357\n",
      "Epoch 14/50\n",
      "500/500 [==============================] - 275s 549ms/step - loss: 0.2540 - accuracy: 0.9192 - val_loss: 0.2312 - val_accuracy: 0.9289\n",
      "Epoch 15/50\n",
      "500/500 [==============================] - 273s 547ms/step - loss: 0.1823 - accuracy: 0.9464 - val_loss: 0.2197 - val_accuracy: 0.9318\n",
      "Epoch 16/50\n",
      "500/500 [==============================] - 273s 546ms/step - loss: 0.2529 - accuracy: 0.9260 - val_loss: 0.1985 - val_accuracy: 0.9421\n",
      "Epoch 17/50\n",
      "500/500 [==============================] - 274s 549ms/step - loss: 0.2105 - accuracy: 0.9352 - val_loss: 0.1974 - val_accuracy: 0.9407\n",
      "Epoch 18/50\n",
      "500/500 [==============================] - 274s 548ms/step - loss: 0.2299 - accuracy: 0.9264 - val_loss: 0.1952 - val_accuracy: 0.9386\n",
      "Epoch 19/50\n",
      "500/500 [==============================] - 273s 547ms/step - loss: 0.2351 - accuracy: 0.9300 - val_loss: 0.1789 - val_accuracy: 0.9445\n",
      "Epoch 20/50\n",
      "500/500 [==============================] - 273s 546ms/step - loss: 0.2000 - accuracy: 0.9360 - val_loss: 0.2011 - val_accuracy: 0.9369\n",
      "Epoch 21/50\n",
      "500/500 [==============================] - 273s 546ms/step - loss: 0.2283 - accuracy: 0.9268 - val_loss: 0.2080 - val_accuracy: 0.9359\n",
      "Epoch 22/50\n",
      "500/500 [==============================] - 272s 545ms/step - loss: 0.2306 - accuracy: 0.9264 - val_loss: 0.1880 - val_accuracy: 0.9404\n",
      "Epoch 23/50\n",
      "500/500 [==============================] - 273s 545ms/step - loss: 0.2151 - accuracy: 0.9336 - val_loss: 0.1847 - val_accuracy: 0.9447\n",
      "Epoch 24/50\n",
      "500/500 [==============================] - 274s 547ms/step - loss: 0.2159 - accuracy: 0.9364 - val_loss: 0.1915 - val_accuracy: 0.9407\n",
      "Epoch 25/50\n",
      "500/500 [==============================] - 273s 545ms/step - loss: 0.1682 - accuracy: 0.9476 - val_loss: 0.1781 - val_accuracy: 0.9463\n",
      "Epoch 26/50\n",
      "500/500 [==============================] - 272s 544ms/step - loss: 0.1631 - accuracy: 0.9476 - val_loss: 0.1813 - val_accuracy: 0.9446\n",
      "Epoch 27/50\n",
      "500/500 [==============================] - 273s 546ms/step - loss: 0.1910 - accuracy: 0.9384 - val_loss: 0.1786 - val_accuracy: 0.9439\n",
      "Epoch 28/50\n",
      "500/500 [==============================] - 272s 543ms/step - loss: 0.1910 - accuracy: 0.9412 - val_loss: 0.1876 - val_accuracy: 0.9415\n",
      "Epoch 29/50\n",
      "500/500 [==============================] - 273s 546ms/step - loss: 0.1906 - accuracy: 0.9396 - val_loss: 0.1827 - val_accuracy: 0.9453\n",
      "Epoch 30/50\n",
      "500/500 [==============================] - 274s 548ms/step - loss: 0.2123 - accuracy: 0.9392 - val_loss: 0.1702 - val_accuracy: 0.9474\n",
      "Epoch 31/50\n",
      "500/500 [==============================] - 272s 544ms/step - loss: 0.1787 - accuracy: 0.9448 - val_loss: 0.1646 - val_accuracy: 0.9504\n",
      "Epoch 32/50\n",
      "500/500 [==============================] - 272s 545ms/step - loss: 0.1784 - accuracy: 0.9400 - val_loss: 0.1720 - val_accuracy: 0.9459\n",
      "Epoch 33/50\n",
      "500/500 [==============================] - 273s 545ms/step - loss: 0.1858 - accuracy: 0.9416 - val_loss: 0.1625 - val_accuracy: 0.9493\n",
      "Epoch 34/50\n",
      "500/500 [==============================] - 273s 546ms/step - loss: 0.1693 - accuracy: 0.9468 - val_loss: 0.1693 - val_accuracy: 0.9490\n",
      "Epoch 35/50\n",
      "500/500 [==============================] - 273s 545ms/step - loss: 0.1714 - accuracy: 0.9472 - val_loss: 0.1942 - val_accuracy: 0.9395\n",
      "Epoch 36/50\n",
      "500/500 [==============================] - 272s 543ms/step - loss: 0.1797 - accuracy: 0.9452 - val_loss: 0.1678 - val_accuracy: 0.9489\n",
      "Epoch 37/50\n",
      "500/500 [==============================] - 273s 546ms/step - loss: 0.1972 - accuracy: 0.9356 - val_loss: 0.1559 - val_accuracy: 0.9518\n",
      "Epoch 38/50\n",
      "500/500 [==============================] - 273s 545ms/step - loss: 0.1721 - accuracy: 0.9480 - val_loss: 0.1590 - val_accuracy: 0.9511\n",
      "Epoch 39/50\n",
      "500/500 [==============================] - 273s 547ms/step - loss: 0.1688 - accuracy: 0.9496 - val_loss: 0.1832 - val_accuracy: 0.9413\n",
      "Epoch 40/50\n",
      "500/500 [==============================] - 273s 545ms/step - loss: 0.1517 - accuracy: 0.9556 - val_loss: 0.1531 - val_accuracy: 0.9534\n",
      "Epoch 41/50\n",
      "500/500 [==============================] - 273s 546ms/step - loss: 0.1719 - accuracy: 0.9420 - val_loss: 0.1753 - val_accuracy: 0.9441\n",
      "Epoch 42/50\n",
      "500/500 [==============================] - 272s 544ms/step - loss: 0.1762 - accuracy: 0.9476 - val_loss: 0.1640 - val_accuracy: 0.9511\n",
      "Epoch 43/50\n",
      "500/500 [==============================] - 273s 546ms/step - loss: 0.1567 - accuracy: 0.9416 - val_loss: 0.1685 - val_accuracy: 0.9454\n",
      "Epoch 44/50\n",
      "500/500 [==============================] - 274s 548ms/step - loss: 0.1484 - accuracy: 0.9504 - val_loss: 0.1572 - val_accuracy: 0.9513\n",
      "Epoch 45/50\n",
      "500/500 [==============================] - 325s 651ms/step - loss: 0.1799 - accuracy: 0.9452 - val_loss: 0.1448 - val_accuracy: 0.9524\n",
      "Epoch 46/50\n",
      "500/500 [==============================] - 325s 650ms/step - loss: 0.1424 - accuracy: 0.9572 - val_loss: 0.1530 - val_accuracy: 0.9547\n",
      "Epoch 47/50\n",
      "500/500 [==============================] - 321s 641ms/step - loss: 0.1511 - accuracy: 0.9512 - val_loss: 0.1526 - val_accuracy: 0.9537\n",
      "Epoch 48/50\n",
      "500/500 [==============================] - 299s 598ms/step - loss: 0.1613 - accuracy: 0.9516 - val_loss: 0.1658 - val_accuracy: 0.9460\n",
      "Epoch 49/50\n",
      "500/500 [==============================] - 300s 599ms/step - loss: 0.1376 - accuracy: 0.9596 - val_loss: 0.1540 - val_accuracy: 0.9540\n",
      "Epoch 50/50\n",
      "500/500 [==============================] - 295s 590ms/step - loss: 0.1595 - accuracy: 0.9496 - val_loss: 0.1522 - val_accuracy: 0.9532\n"
     ]
    }
   ],
   "source": [
    "qcnn_model.compile(optimizer=tf.keras.optimizers.Adam(),\n",
    "              loss='sparse_categorical_crossentropy',\n",
    "              metrics=['accuracy'])\n",
    "\n",
    "qcnn_history = qcnn_model.fit(x_train, y_train, steps_per_epoch=500,\n",
    "                        validation_data=(x_test, y_test), \n",
    "                        epochs=50, batch_size=5)"
   ]
  },
  {
   "cell_type": "code",
   "execution_count": 17,
   "metadata": {
    "colab": {},
    "colab_type": "code",
    "id": "oSjNaowxEPDE",
    "outputId": "fe340c9f-c64a-4590-c569-7499f326b999"
   },
   "outputs": [
    {
     "name": "stdout",
     "output_type": "stream",
     "text": [
      "313/313 - 179s - loss: 0.1522 - accuracy: 0.9532\n"
     ]
    }
   ],
   "source": [
    "test_loss, test_acc = qcnn_model.evaluate(x_test, y_test, verbose=2)"
   ]
  },
  {
   "cell_type": "code",
   "execution_count": 18,
   "metadata": {
    "scrolled": true
   },
   "outputs": [
    {
     "data": {
      "image/png": "[encoded data removed]",
      "text/plain": [
       "<Figure size 432x288 with 1 Axes>"
      ]
     },
     "metadata": {
      "needs_background": "light"
     },
     "output_type": "display_data"
    },
    {
     "data": {
      "image/png": "[encoded data removed]",
      "text/plain": [
       "<Figure size 432x288 with 1 Axes>"
      ]
     },
     "metadata": {
      "needs_background": "light"
     },
     "output_type": "display_data"
    },
    {
     "data": {
      "image/png": "[encoded data removed]",
      "text/plain": [
       "<Figure size 432x288 with 1 Axes>"
      ]
     },
     "metadata": {
      "needs_background": "light"
     },
     "output_type": "display_data"
    },
    {
     "data": {
      "image/png": "[encoded data removed]",
      "text/plain": [
       "<Figure size 432x288 with 1 Axes>"
      ]
     },
     "metadata": {
      "needs_background": "light"
     },
     "output_type": "display_data"
    },
    {
     "data": {
      "image/png": "[encoded data removed]",
      "text/plain": [
       "<Figure size 432x288 with 1 Axes>"
      ]
     },
     "metadata": {
      "needs_background": "light"
     },
     "output_type": "display_data"
    },
    {
     "data": {
      "image/png": "[encoded data removed]",
      "text/plain": [
       "<Figure size 432x288 with 1 Axes>"
      ]
     },
     "metadata": {
      "needs_background": "light"
     },
     "output_type": "display_data"
    },
    {
     "data": {
      "image/png": "[encoded data removed]",
      "text/plain": [
       "<Figure size 432x288 with 1 Axes>"
      ]
     },
     "metadata": {
      "needs_background": "light"
     },
     "output_type": "display_data"
    },
    {
     "data": {
      "image/png": "[encoded data removed]",
      "text/plain": [
       "<Figure size 432x288 with 1 Axes>"
      ]
     },
     "metadata": {
      "needs_background": "light"
     },
     "output_type": "display_data"
    }
   ],
   "source": [
    "for i in range(8):\n",
    "    fig = plt.figure()\n",
    "    plt.axis('off')\n",
    "    plt.imshow(qcnn_model.get_layer('qconv1')(x_train[0:1,:,:,:])[0,:,:,i], cmap='gray_r')\n",
    "    fig.savefig('qcnn_%d'%i, dpi=300, bbox_inches='tight')"
   ]
  },
  {
   "cell_type": "markdown",
   "metadata": {},
   "source": [
    "# Comparing Result"
   ]
  },
  {
   "cell_type": "code",
   "execution_count": 19,
   "metadata": {},
   "outputs": [],
   "source": [
    "def plot_loss_curves(fc_loss, cnn_loss, qcnn_loss):\n",
    "    fig = plt.figure()\n",
    "    plt.plot(np.arange(len(fc_loss)) + 1, fc_loss, \"go-\", label=\"fully-connected\")\n",
    "    plt.plot(np.arange(len(cnn_loss)) + 1, cnn_loss, \"rs-\", label=\"CNN\")\n",
    "    plt.plot(np.arange(len(qcnn_loss)) + 1, qcnn_loss, \"b^-\", label=\"QCNN\")\n",
    "    plt.gca().xaxis.set_major_locator(mpl.ticker.MaxNLocator(integer=True))\n",
    "    plt.axis([1, 50, 0, 1])\n",
    "    plt.legend(fontsize=14)\n",
    "    plt.xlabel(\"Epochs\")\n",
    "    plt.ylabel(\"Test set loss\")\n",
    "    plt.grid(True)\n",
    "    fig.savefig('loss.png', dpi=300)\n",
    "    \n",
    "def plot_loss_curves_small(fc_loss, cnn_loss, qcnn_loss):\n",
    "    fig = plt.figure()\n",
    "    plt.plot(np.arange(len(fc_loss))[::2] + 1, fc_loss[::2], \"go-\", label=\"fully-connected\")\n",
    "    plt.plot(np.arange(len(cnn_loss))[::2] + 1, cnn_loss[::2], \"rs-\", label=\"CNN\")\n",
    "    plt.plot(np.arange(len(qcnn_loss))[::2] + 1, qcnn_loss[::2], \"b^-\", label=\"QCNN\")\n",
    "    plt.gca().xaxis.set_major_locator(mpl.ticker.MaxNLocator(integer=True))\n",
    "    plt.axis([1, 50, 0, 1])\n",
    "    plt.legend(fontsize=14)\n",
    "    plt.xlabel(\"Epochs\")\n",
    "    plt.ylabel(\"Test set loss\")\n",
    "    plt.grid(True)\n",
    "    fig.savefig('loss_small.png', dpi=300)"
   ]
  },
  {
   "cell_type": "code",
   "execution_count": 20,
   "metadata": {},
   "outputs": [
    {
     "data": {
      "image/png": "[encoded data removed]",
      "text/plain": [
       "<Figure size 432x288 with 1 Axes>"
      ]
     },
     "metadata": {
      "needs_background": "light"
     },
     "output_type": "display_data"
    }
   ],
   "source": [
    "plot_loss_curves(fc_history.history['val_loss'], cnn_history.history['val_loss'], qcnn_history.history['val_loss'])"
   ]
  },
  {
   "cell_type": "code",
   "execution_count": 21,
   "metadata": {},
   "outputs": [
    {
     "data": {
      "image/png": "[encoded data removed]",
      "text/plain": [
       "<Figure size 432x288 with 1 Axes>"
      ]
     },
     "metadata": {
      "needs_background": "light"
     },
     "output_type": "display_data"
    }
   ],
   "source": [
    "plot_loss_curves_small(fc_history.history['val_loss'], cnn_history.history['val_loss'], qcnn_history.history['val_loss'])"
   ]
  },
  {
   "cell_type": "code",
   "execution_count": 22,
   "metadata": {},
   "outputs": [],
   "source": [
    "def plot_acc_curves(fc_acc, cnn_acc, qcnn_acc):\n",
    "    fig = plt.figure()\n",
    "    plt.plot(np.arange(len(fc_acc)) + 1, fc_acc, \"go-\", label=\"fully-connected\")\n",
    "    plt.plot(np.arange(len(cnn_acc)) + 1, cnn_acc, \"rs-\", label=\"CNN\")\n",
    "    plt.plot(np.arange(len(qcnn_acc)) + 1, qcnn_acc, \"b^-\", label=\"QCNN\")\n",
    "    plt.gca().xaxis.set_major_locator(mpl.ticker.MaxNLocator(integer=True))\n",
    "    plt.grid()\n",
    "    plt.axis([1, 50, 0.8, 1])\n",
    "    plt.legend(fontsize=14)\n",
    "    plt.xlabel(\"Epochs\")\n",
    "    plt.ylabel(\"Test set accuracy\")\n",
    "    fig.savefig('accuracy.png', dpi=300)\n",
    "    \n",
    "def plot_acc_curves_small(fc_acc, cnn_acc, qcnn_acc):\n",
    "    fig = plt.figure()\n",
    "    plt.plot(np.arange(len(fc_acc))[::2] + 1, fc_acc[::2], \"go-\", label=\"fully-connected\")\n",
    "    plt.plot(np.arange(len(cnn_acc))[::2] + 1, cnn_acc[::2], \"rs-\", label=\"CNN\")\n",
    "    plt.plot(np.arange(len(qcnn_acc))[::2] + 1, qcnn_acc[::2], \"b^-\", label=\"QCNN\")\n",
    "    plt.gca().xaxis.set_major_locator(mpl.ticker.MaxNLocator(integer=True))\n",
    "    plt.grid()\n",
    "    plt.axis([1, 50, 0.8, 1])\n",
    "    plt.legend(fontsize=14)\n",
    "    plt.xlabel(\"Epochs\")\n",
    "    plt.ylabel(\"Test set accuracy\")\n",
    "    fig.savefig('accuracy_small.png', dpi=300)"
   ]
  },
  {
   "cell_type": "code",
   "execution_count": 23,
   "metadata": {},
   "outputs": [
    {
     "data": {
      "image/png": "[encoded data removed]",
      "text/plain": [
       "<Figure size 432x288 with 1 Axes>"
      ]
     },
     "metadata": {
      "needs_background": "light"
     },
     "output_type": "display_data"
    }
   ],
   "source": [
    "plot_acc_curves(fc_history.history['val_accuracy'], cnn_history.history['val_accuracy'], qcnn_history.history['val_accuracy'])"
   ]
  },
  {
   "cell_type": "code",
   "execution_count": 24,
   "metadata": {},
   "outputs": [
    {
     "data": {
      "image/png": "[encoded data removed]",
      "text/plain": [
       "<Figure size 432x288 with 1 Axes>"
      ]
     },
     "metadata": {
      "needs_background": "light"
     },
     "output_type": "display_data"
    }
   ],
   "source": [
    "plot_acc_curves_small(fc_history.history['val_accuracy'], cnn_history.history['val_accuracy'], qcnn_history.history['val_accuracy'])"
   ]
  },
  {
   "cell_type": "code",
   "execution_count": null,
   "metadata": {},
   "outputs": [],
   "source": []
  }
 ],
 "metadata": {
  "accelerator": "GPU",
  "colab": {
   "name": "QCNN_MNIST-1.ipynb",
   "provenance": []
  },
  "kernelspec": {
   "display_name": "Python 3.9 (tensorflow)",
   "language": "python",
   "name": "tensorflow"
  },
  "language_info": {
   "codemirror_mode": {
    "name": "ipython",
    "version": 3
   },
   "file_extension": ".py",
   "mimetype": "text/x-python",
   "name": "python",
   "nbconvert_exporter": "python",
   "pygments_lexer": "ipython3",
   "version": "3.9.10"
  }
 },
 "nbformat": 4,
 "nbformat_minor": 1
}
